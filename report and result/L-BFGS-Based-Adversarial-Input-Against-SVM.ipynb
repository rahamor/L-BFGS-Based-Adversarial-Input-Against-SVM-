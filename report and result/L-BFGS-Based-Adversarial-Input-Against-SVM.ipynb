{
 "cells": [
  {
   "cell_type": "code",
   "execution_count": 2,
   "metadata": {
    "collapsed": true
   },
   "outputs": [],
   "source": [
    "import numpy as np\n",
    "import matplotlib.pyplot as plt\n",
    "%matplotlib inline\n",
    "from sklearn import linear_model, preprocessing\n",
    "import scipy"
   ]
  },
  {
   "cell_type": "code",
   "execution_count": 3,
   "metadata": {},
   "outputs": [
    {
     "data": {
      "text/plain": [
       "(1797, 8, 8)"
      ]
     },
     "execution_count": 3,
     "metadata": {},
     "output_type": "execute_result"
    }
   ],
   "source": [
    "from sklearn import datasets, linear_model, preprocessing\n",
    "digits = datasets.load_digits()\n",
    "images = digits.images\n",
    "labels = digits.target\n",
    "images.shape"
   ]
  },
  {
   "cell_type": "code",
   "execution_count": 4,
   "metadata": {},
   "outputs": [
    {
     "data": {
      "text/plain": [
       "(70000, 784)"
      ]
     },
     "execution_count": 4,
     "metadata": {},
     "output_type": "execute_result"
    }
   ],
   "source": [
    "from sklearn.datasets import fetch_mldata\n",
    "mnist = fetch_mldata(\"MNIST original\")\n",
    "mnist.data.shape"
   ]
  },
  {
   "cell_type": "code",
   "execution_count": 5,
   "metadata": {
    "collapsed": true
   },
   "outputs": [],
   "source": [
    "Xdig = mnist.data\n",
    "ydig = mnist.target\n",
    "ydig=ydig.astype('int64')\n",
    "Xdig=Xdig*2/255-1"
   ]
  },
  {
   "cell_type": "code",
   "execution_count": 6,
   "metadata": {},
   "outputs": [
    {
     "data": {
      "image/png": "[encoded data removed]",
      "text/plain": [
       "<matplotlib.figure.Figure at 0x1a0af55668>"
      ]
     },
     "metadata": {},
     "output_type": "display_data"
    }
   ],
   "source": [
    "def plt_digit(x):\n",
    "    nrow = 28\n",
    "    ncol = 28\n",
    "    xsq = x.reshape((nrow,ncol))\n",
    "    plt.imshow(xsq,  cmap='Greys_r')\n",
    "    plt.xticks([])\n",
    "    plt.yticks([])\n",
    "\n",
    "# Select random digits\n",
    "nplt = 4\n",
    "nsamp = Xdig.shape[0]\n",
    "Iperm = np.random.permutation(nsamp)\n",
    "\n",
    "# Plot the images using the subplot command\n",
    "for i in range(nplt):\n",
    "    ind = Iperm[i]\n",
    "    plt.subplot(1,nplt,i+1)\n",
    "    plt_digit(Xdig[ind,:])\n",
    "    plt.title(ydig[ind])"
   ]
  },
  {
   "cell_type": "code",
   "execution_count": 7,
   "metadata": {
    "collapsed": true
   },
   "outputs": [],
   "source": [
    "class ImgException(Exception):\n",
    "    def __init__(self, msg='No msg'):\n",
    "        self.msg = msg"
   ]
  },
  {
   "cell_type": "code",
   "execution_count": 8,
   "metadata": {
    "collapsed": true
   },
   "outputs": [],
   "source": [
    "import matplotlib.image as mpimg\n",
    "import skimage.io\n",
    "from skimage.filters import threshold_otsu\n",
    "from skimage.segmentation import clear_border\n",
    "from skimage.measure import label, regionprops\n",
    "from skimage.morphology import closing, square\n",
    "from skimage.color import label2rgb\n",
    "from skimage.transform import resize\n",
    "import matplotlib.patches as mpatches\n",
    "from skimage import data\n",
    "import skimage"
   ]
  },
  {
   "cell_type": "code",
   "execution_count": 9,
   "metadata": {
    "collapsed": true
   },
   "outputs": [],
   "source": [
    "import os.path\n",
    "def load_img(char_ind, samp_ind):\n",
    "    \"\"\"\n",
    "    Returns the image from the dataset given a character and sample index.\n",
    "    \n",
    "        \n",
    "    If the file doesn't exist, it raises an Exception with the filename.   \n",
    "    \"\"\" \n",
    "    path='/Users/zhongda/Downloads/EnglishHnd/English/Hnd/Img/Sample'+str(char_ind).zfill(3)+'/'\n",
    "    # TODO:  Set the file name based on char_ind and samp_ind\n",
    "    # fname = ...\n",
    "    fname='img'+str(char_ind).zfill(3)+'-'+str(samp_ind).zfill(3)+'.png'\n",
    "    # TODO:  Use the os.path.isfile command to check if the file exists.  \n",
    "    # If not raise an ImgException with the message \"[fname] not found\"\n",
    "    img=[]\n",
    "    if(os.path.isfile(path+fname)==False):\n",
    "        em=fname+' not found'\n",
    "        raise ImgException(em)\n",
    "    else:\n",
    "        img=skimage.io.imread(path+fname)\n",
    "    return img"
   ]
  },
  {
   "cell_type": "code",
   "execution_count": 10,
   "metadata": {
    "collapsed": true
   },
   "outputs": [],
   "source": [
    "def mnist_resize(img):\n",
    "    \"\"\"\n",
    "    Extracts a character from the image, and places in a 28x28 image to match the MNIST format.\n",
    "    \n",
    "    Returns:\n",
    "    img1:  MNIST formatted 28 x 28 size image with the character from img\n",
    "    box:   A bounding box indicating the locations where the character was found in img.    \n",
    "    \"\"\"\n",
    "    # Image sizes (fixed for now).  To match the MNIST data, the image \n",
    "    # will be first resized to 20 x 20.  Then, the image will be placed in center of 28 x 28 box\n",
    "    # offet by 4 on each side.\n",
    "    nx_img = 20   \n",
    "    ny_img = 20\n",
    "    nx_box = 28   \n",
    "    ny_box = 28\n",
    "    offx = 4\n",
    "    offy = 4\n",
    "    \n",
    "    # TODO:  Convert the image to gray scale using the skimage.color.rgb2gray method.\n",
    "    # bw = ...\n",
    "    bw=skimage.color.rgb2gray(img)\n",
    "    # Threshold the image using OTSU threshold\n",
    "    thresh = threshold_otsu(bw)\n",
    "    bw = closing(bw < thresh, square(3)).astype(int)\n",
    "    \n",
    "    # Get the regions in the image.\n",
    "    # This creates a list of regions in the image where the digit possibly is.\n",
    "    regions = regionprops(bw)\n",
    "\n",
    "    # TODO:  Find region with the largest area.  You can get the region area from region.area.\n",
    "    # region_max = ...\n",
    "    area_max=0\n",
    "    for i in range(len(regions)):\n",
    "        if area_max<regions[i].area:\n",
    "            region_max=regions[i]\n",
    "    area_max=region_max.area\n",
    "    # Raise an ImgException if no region with area >= 100 was found\n",
    "    if (area_max < 100):\n",
    "        raise ImgException(\"No image found\")    \n",
    "                \n",
    "    # Get the bounding box of the character from region_max.bbox\n",
    "    minr, minc, maxr, maxc = region_max.bbox\n",
    "    box = [minr,minc,maxr,maxc]\n",
    "    \n",
    "    # TODO:  Crop the image in bw to the bounding box\n",
    "    # bw_crop = bw[...]\n",
    "    bw_crop=bw[minr:maxr,minc:maxc]\n",
    "        \n",
    "    # TODO:  Resize the cropped image to a 20x20 using the resize command.\n",
    "    # You will need to use the mode = 'constant' option\n",
    "    # bw_resize = ...\n",
    "    bw_resize=resize(bw_crop*1.0,[20,20],mode='constant')\n",
    "    \n",
    "    # TODO:  Threshold back to a 0-1 image by comparing the pixels to their mean value\n",
    "    s=bw_resize-np.mean(bw_resize)\n",
    "    img0=(s/abs(s)+1)/2\n",
    "    # TODO:  Place extracted 20 x 20 image in larger image 28 x 28\n",
    "    # img1 = ...\n",
    "    img1=np.zeros([28,28])\n",
    "    img1[4:24,4:24]=img0\n",
    "    return img1, box"
   ]
  },
  {
   "cell_type": "code",
   "execution_count": 11,
   "metadata": {
    "collapsed": true
   },
   "outputs": [],
   "source": [
    "import random\n",
    "#Select ndig=5000 random samples from Xdigs and their labels in ydig.\n",
    "ndig=5000\n",
    "ind=list(range(70000))\n",
    "indn = random.sample(ind, ndig)\n",
    "X=Xdig[indn,:]\n",
    "y=ydig[indn]\n",
    "y=y.astype(int)"
   ]
  },
  {
   "cell_type": "code",
   "execution_count": 15,
   "metadata": {
    "collapsed": true
   },
   "outputs": [],
   "source": [
    "import pickle\n",
    "pickle.dump(X,open('X.p', 'wb'))\n",
    "pkl_file = open('X.p', 'rb')\n",
    "\n"
   ]
  },
  {
   "cell_type": "code",
   "execution_count": 16,
   "metadata": {
    "collapsed": true
   },
   "outputs": [],
   "source": [
    "X = pickle.load(pkl_file)"
   ]
  },
  {
   "cell_type": "code",
   "execution_count": 17,
   "metadata": {},
   "outputs": [
    {
     "name": "stderr",
     "output_type": "stream",
     "text": [
      "/Users/zhongda/anaconda3/lib/python3.6/site-packages/sklearn/cross_validation.py:41: DeprecationWarning: This module was deprecated in version 0.18 in favor of the model_selection module into which all the refactored classes and functions are moved. Also note that the interface of the new CV iterators are different from that of this module. This module will be removed in 0.20.\n",
      "  \"This module will be removed in 0.20.\", DeprecationWarning)\n"
     ]
    },
    {
     "data": {
      "text/plain": [
       "SVC(C=2.8, cache_size=200, class_weight=None, coef0=0.0,\n",
       "  decision_function_shape='ovr', degree=3, gamma=0.0273, kernel='rbf',\n",
       "  max_iter=-1, probability=True, random_state=None, shrinking=True,\n",
       "  tol=0.001, verbose=False)"
      ]
     },
     "execution_count": 17,
     "metadata": {},
     "output_type": "execute_result"
    }
   ],
   "source": [
    "from sklearn import svm\n",
    "from sklearn.cross_validation import train_test_split as tts\n",
    "svc = svm.SVC(probability=True,  kernel=\"rbf\", C=2.8, gamma=.0273)\n",
    "Xtr,Xts,ytr,yts=tts(X,y,test_size=1/6,random_state=0)\n",
    "svc.fit(Xtr,ytr)"
   ]
  },
  {
   "cell_type": "code",
   "execution_count": 15,
   "metadata": {},
   "outputs": [
    {
     "name": "stdout",
     "output_type": "stream",
     "text": [
      "Accuaracy = 0.949640\n"
     ]
    }
   ],
   "source": [
    "yhat_ts = svc.predict(Xts)\n",
    "acc = np.mean(yhat_ts == yts)\n",
    "print('Accuaracy = {0:f}'.format(acc))"
   ]
  },
  {
   "cell_type": "code",
   "execution_count": 16,
   "metadata": {
    "collapsed": true
   },
   "outputs": [],
   "source": [
    "import scipy\n",
    "import scipy.optimize as opt"
   ]
  },
  {
   "cell_type": "code",
   "execution_count": 17,
   "metadata": {
    "collapsed": true
   },
   "outputs": [],
   "source": [
    "def Dis(x,x1):\n",
    "    d=x-x1\n",
    "    D=((d**2).sum())**0.5\n",
    "    return D"
   ]
  },
  {
   "cell_type": "code",
   "execution_count": 18,
   "metadata": {
    "collapsed": true
   },
   "outputs": [],
   "source": [
    "def c_e(x1,y_prime):\n",
    "    y1=[0,0,0,0,0,0,0,0,0,0]\n",
    "    y1[y_prime]=1\n",
    "    yh=svc.predict_proba([x1,x1])\n",
    "    ce=-(y1*np.log(yh)).sum()\n",
    "    return ce"
   ]
  },
  {
   "cell_type": "code",
   "execution_count": 23,
   "metadata": {
    "collapsed": true
   },
   "outputs": [],
   "source": [
    "def l_fun(x1,*args):\n",
    "    x=args[0]\n",
    "    y_prime=args[1]\n",
    "    c=args[2]\n",
    "    ly=svc.predict_proba([x1,x1])[0]\n",
    "    l_f=c*Dis(x,x1)+c_e(x1,y_prime)\n",
    "    return l_f"
   ]
  },
  {
   "cell_type": "code",
   "execution_count": 24,
   "metadata": {
    "collapsed": true
   },
   "outputs": [],
   "source": [
    "def L_BFGS_B(x,y_prime,c):\n",
    "    \n",
    "    initial=np.ones(len(x))\n",
    "    x1=opt.fmin_l_bfgs_b(l_fun,x0=initial,args=(x,y_prime,c),approx_grad=True)\n",
    "    x2=x1[0]\n",
    "    D=Dis(x,x2)\n",
    "    yh=svc.predict([x2,x2])\n",
    "    return x2,yh[0],D"
   ]
  },
  {
   "cell_type": "code",
   "execution_count": 1,
   "metadata": {},
   "outputs": [
    {
     "name": "stdout",
     "output_type": "stream",
     "text": [
      "x input:1\n",
      "y prime(eg.[1,2,3,4]):[1,2,3]\n",
      "e value0.01\n"
     ]
    }
   ],
   "source": [
    "x_input = input(\"x input:\")\n",
    "y_input = input(\"y prime(eg.[1,2,3,4]):\")\n",
    "E = input(\"e value\")"
   ]
  },
  {
   "cell_type": "code",
   "execution_count": 37,
   "metadata": {},
   "outputs": [
    {
     "name": "stdout",
     "output_type": "stream",
     "text": [
      "y=9\n",
      "the y_prime is 3\n",
      "C=0.02\n",
      "C=0.04\n",
      "Bisection Search start!\n",
      "C=0.02\n",
      "C=0.03\n",
      "C=0.035\n",
      "the y_prime is 4\n",
      "C=0.02\n",
      "C=0.04\n",
      "C=0.08\n",
      "C=0.16\n",
      "C=0.32\n",
      "C=0.64\n",
      "C=1.28\n",
      "C=2.56\n",
      "C=5.12\n",
      "C=10.24\n",
      "Bisection Search start!\n",
      "C=5.12\n",
      "C=7.68\n",
      "C=6.4\n",
      "C=5.76\n",
      "C=6.08\n",
      "C=6.24\n",
      "C=6.32\n",
      "C=6.28\n",
      "C=6.26\n",
      "C=6.25\n",
      "the y_prime is 5\n",
      "C=0.02\n",
      "C=0.04\n",
      "C=0.08\n",
      "C=0.16\n",
      "C=0.32\n",
      "C=0.64\n",
      "C=1.28\n",
      "C=2.56\n",
      "C=5.12\n",
      "Bisection Search start!\n",
      "C=2.56\n",
      "C=3.84\n",
      "C=4.48\n",
      "C=4.800000000000001\n",
      "C=4.960000000000001\n",
      "C=5.040000000000001\n",
      "C=5.000000000000001\n",
      "C=5.020000000000001\n",
      "C=5.010000000000002\n",
      "C=5.005000000000001\n"
     ]
    },
    {
     "data": {
      "image/png": "[encoded data removed]",
      "text/plain": [
       "<matplotlib.figure.Figure at 0x1a078bba90>"
      ]
     },
     "metadata": {},
     "output_type": "display_data"
    }
   ],
   "source": [
    "#initial data\n",
    "x_num=x_input\n",
    "ind=np.where(y==x_num)[0]\n",
    "num=random.choice(ind)\n",
    "x=X[num,:]\n",
    "print('y={}'.format(y[num]))\n",
    "y_p=y_input\n",
    "t_num=length(y_p)\n",
    "for i in range(t_num):\n",
    "    y_prime=y_p[i]\n",
    "    print('the y_prime is {}'.format(i))\n",
    "    #initalization C\n",
    "    c =E\n",
    "    while True:\n",
    "        c = 2*c\n",
    "        x_prime,yh,D  = L_BFGS_B(x,y_prime,c)\n",
    "        print('C={}'.format(c))\n",
    "        if (yh != y_prime):\n",
    "            break\n",
    "            \n",
    "    ##Bisection Search\n",
    "    print('Bisection Search start!')\n",
    "    c_low = 0 \n",
    "    c_high = c\n",
    "    while True:\n",
    "\n",
    "        c_half = (c_high+c_low)/2\n",
    "        x_prime,yh,D_prime = L_BFGS_B(x,y_prime,c_half)\n",
    "        print('C={}'.format(c_half))\n",
    "        if (yh != y_prime):\n",
    "            D = D_prime\n",
    "            c_high = c_half\n",
    "        else:\n",
    "            c_low = c_half\n",
    "        if ((c_high - c_low) < E):\n",
    "            break\n",
    "    title=svc.predict([x_prime,x])\n",
    "    plt.subplot(3,t_num,i+1)\n",
    "    plt_digit(x_prime)\n",
    "    plt.title(title[0])\n",
    "    plt.subplot(3,t_num,t_num+1+i)\n",
    "    plt_digit(x_prime-x)\n",
    "    plt.subplot(3,t_num,2*t_num+1+i)\n",
    "    plt_digit(x)\n",
    "    plt.title(title[1])\n",
    "plt.savefig(\"result.png\")"
   ]
  }
 ],
 "metadata": {
  "kernelspec": {
   "display_name": "Python 2",
   "language": "python",
   "name": "python2"
  },
  "language_info": {
   "codemirror_mode": {
    "name": "ipython",
    "version": 2
   },
   "file_extension": ".py",
   "mimetype": "text/x-python",
   "name": "python",
   "nbconvert_exporter": "python",
   "pygments_lexer": "ipython2",
   "version": "2.7.13"
  }
 },
 "nbformat": 4,
 "nbformat_minor": 2
}
